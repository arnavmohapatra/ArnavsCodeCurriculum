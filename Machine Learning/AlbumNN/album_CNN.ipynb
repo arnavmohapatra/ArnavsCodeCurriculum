{
 "cells": [
  {
   "cell_type": "markdown",
   "metadata": {},
   "source": [
    "# Theoretical Structure\n",
    "- Read from dataset \n",
    "- Image Augmentation (Scale, Stretch, Zoom, Rotate, Tilt, Buffer, Shifts, Flips, Saturation, etc.)\n",
    "- Construct NN Structure\n",
    "- Feed Data\n",
    "- Split Data into training and testing data\n",
    "- Train Model\n",
    "- Test Model\n",
    "- Save Model\n",
    "- Read and input test.png into trained model and output Results\n",
    "\n",
    "TODO:\n",
    "- automatically check data folder for file changes and retrain only if needed"
   ]
  },
  {
   "cell_type": "markdown",
   "metadata": {},
   "source": []
  },
  {
   "cell_type": "code",
   "execution_count": null,
   "metadata": {},
   "outputs": [],
   "source": []
  }
 ],
 "metadata": {
  "language_info": {
   "name": "python"
  },
  "orig_nbformat": 4
 },
 "nbformat": 4,
 "nbformat_minor": 2
}
