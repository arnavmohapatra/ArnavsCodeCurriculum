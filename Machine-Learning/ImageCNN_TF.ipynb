{
  "nbformat": 4,
  "nbformat_minor": 0,
  "metadata": {
    "colab": {
      "name": "ImageCNN TF.ipynb",
      "provenance": [],
      "collapsed_sections": []
    },
    "kernelspec": {
      "name": "python3",
      "display_name": "Python 3"
    }
  },
  "cells": [
    {
      "cell_type": "code",
      "metadata": {
        "id": "REy3LbNYybU8",
        "colab_type": "code",
        "colab": {}
      },
      "source": [
        "#%tensorflow_version 2.x  # this line is not required unless you are in a notebook\n",
        "import tensorflow as tf #Tensorflow handles the Training and Testing\n",
        "from tensorflow import keras #Keras handles the importing of Data\n",
        "import numpy as np #NumPy does funny math good\n",
        "import matplotlib.pyplot as plt #MatPlotLib visualizes data"
      ],
      "execution_count": 60,
      "outputs": []
    },
    {
      "cell_type": "code",
      "metadata": {
        "id": "lOvNBsuHylG1",
        "colab_type": "code",
        "colab": {}
      },
      "source": [
        "(train_images, train_labels), (test_images, test_labels) = tf.keras.datasets.cifar10.load_data() #Loads the CIFAR 10 Dataset which has 60,000 RGB 32x32 px images split in a 5:1 Train-Test ratio\n",
        "class_names = [\"Airplane\", \"Automobile\", \"Bird\", \"Cat\", \"Deer\", \"Dog\", \"Frog\", \"Horse\", \"Ship\", \"Truck\"]"
      ],
      "execution_count": 61,
      "outputs": []
    },
    {
      "cell_type": "code",
      "metadata": {
        "id": "BX2dRt0Ay1Bh",
        "colab_type": "code",
        "colab": {
          "base_uri": "https://localhost:8080/",
          "height": 283
        },
        "outputId": "1998b6f4-081d-49c2-fa2a-c1ff0bda17a5",
        "tags": []
      },
      "source": [
        "index = 29\n",
        "\n",
        "plt.figure()\n",
        "plt.imshow(train_images[index])\n",
        "plt.show()\n",
        "print(class_names[train_labels[index, 0]]) "
      ],
      "execution_count": 62,
      "outputs": [
        {
          "output_type": "display_data",
          "data": {
            "text/plain": "<Figure size 432x288 with 1 Axes>",
            "image/svg+xml": "<?xml version=\"1.0\" encoding=\"utf-8\" standalone=\"no\"?>\r\n<!DOCTYPE svg PUBLIC \"-//W3C//DTD SVG 1.1//EN\"\r\n  \"http://www.w3.org/Graphics/SVG/1.1/DTD/svg11.dtd\">\r\n<!-- Created with matplotlib (https://matplotlib.org/) -->\r\n<svg height=\"248.919844pt\" version=\"1.1\" viewBox=\"0 0 251.565 248.919844\" width=\"251.565pt\" xmlns=\"http://www.w3.org/2000/svg\" xmlns:xlink=\"http://www.w3.org/1999/xlink\">\r\n <defs>\r\n  <style type=\"text/css\">\r\n*{stroke-linecap:butt;stroke-linejoin:round;}\r\n  </style>\r\n </defs>\r\n <g id=\"figure_1\">\r\n  <g id=\"patch_1\">\r\n   <path d=\"M 0 248.919844 \r\nL 251.565 248.919844 \r\nL 251.565 0 \r\nL 0 0 \r\nz\r\n\" style=\"fill:none;\"/>\r\n  </g>\r\n  <g id=\"axes_1\">\r\n   <g id=\"patch_2\">\r\n    <path d=\"M 26.925 225.041719 \r\nL 244.365 225.041719 \r\nL 244.365 7.601719 \r\nL 26.925 7.601719 \r\nz\r\n\" style=\"fill:#ffffff;\"/>\r\n   </g>\r\n   <g clip-path=\"url(#pf30cffab46)\">\r\n    <image height=\"218\" id=\"image51b2e09dd9\" transform=\"scale(1 -1)translate(0 -218)\" width=\"218\" x=\"26.925\" xlink:href=\"data:image/png;base64,\r\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\" y=\"-7.041719\"/>\r\n   </g>\r\n   <g id=\"matplotlib.axis_1\">\r\n    <g id=\"xtick_1\">\r\n     <g id=\"line2d_1\">\r\n      <defs>\r\n       <path d=\"M 0 0 \r\nL 0 3.5 \r\n\" id=\"me7ed5bbaf7\" style=\"stroke:#000000;stroke-width:0.8;\"/>\r\n      </defs>\r\n      <g>\r\n       <use style=\"stroke:#000000;stroke-width:0.8;\" x=\"30.3225\" xlink:href=\"#me7ed5bbaf7\" y=\"225.041719\"/>\r\n      </g>\r\n     </g>\r\n     <g id=\"text_1\">\r\n      <!-- 0 -->\r\n      <defs>\r\n       <path d=\"M 31.78125 66.40625 \r\nQ 24.171875 66.40625 20.328125 58.90625 \r\nQ 16.5 51.421875 16.5 36.375 \r\nQ 16.5 21.390625 20.328125 13.890625 \r\nQ 24.171875 6.390625 31.78125 6.390625 \r\nQ 39.453125 6.390625 43.28125 13.890625 \r\nQ 47.125 21.390625 47.125 36.375 \r\nQ 47.125 51.421875 43.28125 58.90625 \r\nQ 39.453125 66.40625 31.78125 66.40625 \r\nz\r\nM 31.78125 74.21875 \r\nQ 44.046875 74.21875 50.515625 64.515625 \r\nQ 56.984375 54.828125 56.984375 36.375 \r\nQ 56.984375 17.96875 50.515625 8.265625 \r\nQ 44.046875 -1.421875 31.78125 -1.421875 \r\nQ 19.53125 -1.421875 13.0625 8.265625 \r\nQ 6.59375 17.96875 6.59375 36.375 \r\nQ 6.59375 54.828125 13.0625 64.515625 \r\nQ 19.53125 74.21875 31.78125 74.21875 \r\nz\r\n\" id=\"DejaVuSans-48\"/>\r\n      </defs>\r\n      <g transform=\"translate(27.14125 239.640156)scale(0.1 -0.1)\">\r\n       <use xlink:href=\"#DejaVuSans-48\"/>\r\n      </g>\r\n     </g>\r\n    </g>\r\n    <g id=\"xtick_2\">\r\n     <g id=\"line2d_2\">\r\n      <g>\r\n       <use style=\"stroke:#000000;stroke-width:0.8;\" x=\"64.2975\" xlink:href=\"#me7ed5bbaf7\" y=\"225.041719\"/>\r\n      </g>\r\n     </g>\r\n     <g id=\"text_2\">\r\n      <!-- 5 -->\r\n      <defs>\r\n       <path d=\"M 10.796875 72.90625 \r\nL 49.515625 72.90625 \r\nL 49.515625 64.59375 \r\nL 19.828125 64.59375 \r\nL 19.828125 46.734375 \r\nQ 21.96875 47.46875 24.109375 47.828125 \r\nQ 26.265625 48.1875 28.421875 48.1875 \r\nQ 40.625 48.1875 47.75 41.5 \r\nQ 54.890625 34.8125 54.890625 23.390625 \r\nQ 54.890625 11.625 47.5625 5.09375 \r\nQ 40.234375 -1.421875 26.90625 -1.421875 \r\nQ 22.3125 -1.421875 17.546875 -0.640625 \r\nQ 12.796875 0.140625 7.71875 1.703125 \r\nL 7.71875 11.625 \r\nQ 12.109375 9.234375 16.796875 8.0625 \r\nQ 21.484375 6.890625 26.703125 6.890625 \r\nQ 35.15625 6.890625 40.078125 11.328125 \r\nQ 45.015625 15.765625 45.015625 23.390625 \r\nQ 45.015625 31 40.078125 35.4375 \r\nQ 35.15625 39.890625 26.703125 39.890625 \r\nQ 22.75 39.890625 18.8125 39.015625 \r\nQ 14.890625 38.140625 10.796875 36.28125 \r\nz\r\n\" id=\"DejaVuSans-53\"/>\r\n      </defs>\r\n      <g transform=\"translate(61.11625 239.640156)scale(0.1 -0.1)\">\r\n       <use xlink:href=\"#DejaVuSans-53\"/>\r\n      </g>\r\n     </g>\r\n    </g>\r\n    <g id=\"xtick_3\">\r\n     <g id=\"line2d_3\">\r\n      <g>\r\n       <use style=\"stroke:#000000;stroke-width:0.8;\" x=\"98.2725\" xlink:href=\"#me7ed5bbaf7\" y=\"225.041719\"/>\r\n      </g>\r\n     </g>\r\n     <g id=\"text_3\">\r\n      <!-- 10 -->\r\n      <defs>\r\n       <path d=\"M 12.40625 8.296875 \r\nL 28.515625 8.296875 \r\nL 28.515625 63.921875 \r\nL 10.984375 60.40625 \r\nL 10.984375 69.390625 \r\nL 28.421875 72.90625 \r\nL 38.28125 72.90625 \r\nL 38.28125 8.296875 \r\nL 54.390625 8.296875 \r\nL 54.390625 0 \r\nL 12.40625 0 \r\nz\r\n\" id=\"DejaVuSans-49\"/>\r\n      </defs>\r\n      <g transform=\"translate(91.91 239.640156)scale(0.1 -0.1)\">\r\n       <use xlink:href=\"#DejaVuSans-49\"/>\r\n       <use x=\"63.623047\" xlink:href=\"#DejaVuSans-48\"/>\r\n      </g>\r\n     </g>\r\n    </g>\r\n    <g id=\"xtick_4\">\r\n     <g id=\"line2d_4\">\r\n      <g>\r\n       <use style=\"stroke:#000000;stroke-width:0.8;\" x=\"132.2475\" xlink:href=\"#me7ed5bbaf7\" y=\"225.041719\"/>\r\n      </g>\r\n     </g>\r\n     <g id=\"text_4\">\r\n      <!-- 15 -->\r\n      <g transform=\"translate(125.885 239.640156)scale(0.1 -0.1)\">\r\n       <use xlink:href=\"#DejaVuSans-49\"/>\r\n       <use x=\"63.623047\" xlink:href=\"#DejaVuSans-53\"/>\r\n      </g>\r\n     </g>\r\n    </g>\r\n    <g id=\"xtick_5\">\r\n     <g id=\"line2d_5\">\r\n      <g>\r\n       <use style=\"stroke:#000000;stroke-width:0.8;\" x=\"166.2225\" xlink:href=\"#me7ed5bbaf7\" y=\"225.041719\"/>\r\n      </g>\r\n     </g>\r\n     <g id=\"text_5\">\r\n      <!-- 20 -->\r\n      <defs>\r\n       <path d=\"M 19.1875 8.296875 \r\nL 53.609375 8.296875 \r\nL 53.609375 0 \r\nL 7.328125 0 \r\nL 7.328125 8.296875 \r\nQ 12.9375 14.109375 22.625 23.890625 \r\nQ 32.328125 33.6875 34.8125 36.53125 \r\nQ 39.546875 41.84375 41.421875 45.53125 \r\nQ 43.3125 49.21875 43.3125 52.78125 \r\nQ 43.3125 58.59375 39.234375 62.25 \r\nQ 35.15625 65.921875 28.609375 65.921875 \r\nQ 23.96875 65.921875 18.8125 64.3125 \r\nQ 13.671875 62.703125 7.8125 59.421875 \r\nL 7.8125 69.390625 \r\nQ 13.765625 71.78125 18.9375 73 \r\nQ 24.125 74.21875 28.421875 74.21875 \r\nQ 39.75 74.21875 46.484375 68.546875 \r\nQ 53.21875 62.890625 53.21875 53.421875 \r\nQ 53.21875 48.921875 51.53125 44.890625 \r\nQ 49.859375 40.875 45.40625 35.40625 \r\nQ 44.1875 33.984375 37.640625 27.21875 \r\nQ 31.109375 20.453125 19.1875 8.296875 \r\nz\r\n\" id=\"DejaVuSans-50\"/>\r\n      </defs>\r\n      <g transform=\"translate(159.86 239.640156)scale(0.1 -0.1)\">\r\n       <use xlink:href=\"#DejaVuSans-50\"/>\r\n       <use x=\"63.623047\" xlink:href=\"#DejaVuSans-48\"/>\r\n      </g>\r\n     </g>\r\n    </g>\r\n    <g id=\"xtick_6\">\r\n     <g id=\"line2d_6\">\r\n      <g>\r\n       <use style=\"stroke:#000000;stroke-width:0.8;\" x=\"200.1975\" xlink:href=\"#me7ed5bbaf7\" y=\"225.041719\"/>\r\n      </g>\r\n     </g>\r\n     <g id=\"text_6\">\r\n      <!-- 25 -->\r\n      <g transform=\"translate(193.835 239.640156)scale(0.1 -0.1)\">\r\n       <use xlink:href=\"#DejaVuSans-50\"/>\r\n       <use x=\"63.623047\" xlink:href=\"#DejaVuSans-53\"/>\r\n      </g>\r\n     </g>\r\n    </g>\r\n    <g id=\"xtick_7\">\r\n     <g id=\"line2d_7\">\r\n      <g>\r\n       <use style=\"stroke:#000000;stroke-width:0.8;\" x=\"234.1725\" xlink:href=\"#me7ed5bbaf7\" y=\"225.041719\"/>\r\n      </g>\r\n     </g>\r\n     <g id=\"text_7\">\r\n      <!-- 30 -->\r\n      <defs>\r\n       <path d=\"M 40.578125 39.3125 \r\nQ 47.65625 37.796875 51.625 33 \r\nQ 55.609375 28.21875 55.609375 21.1875 \r\nQ 55.609375 10.40625 48.1875 4.484375 \r\nQ 40.765625 -1.421875 27.09375 -1.421875 \r\nQ 22.515625 -1.421875 17.65625 -0.515625 \r\nQ 12.796875 0.390625 7.625 2.203125 \r\nL 7.625 11.71875 \r\nQ 11.71875 9.328125 16.59375 8.109375 \r\nQ 21.484375 6.890625 26.8125 6.890625 \r\nQ 36.078125 6.890625 40.9375 10.546875 \r\nQ 45.796875 14.203125 45.796875 21.1875 \r\nQ 45.796875 27.640625 41.28125 31.265625 \r\nQ 36.765625 34.90625 28.71875 34.90625 \r\nL 20.21875 34.90625 \r\nL 20.21875 43.015625 \r\nL 29.109375 43.015625 \r\nQ 36.375 43.015625 40.234375 45.921875 \r\nQ 44.09375 48.828125 44.09375 54.296875 \r\nQ 44.09375 59.90625 40.109375 62.90625 \r\nQ 36.140625 65.921875 28.71875 65.921875 \r\nQ 24.65625 65.921875 20.015625 65.03125 \r\nQ 15.375 64.15625 9.8125 62.3125 \r\nL 9.8125 71.09375 \r\nQ 15.4375 72.65625 20.34375 73.4375 \r\nQ 25.25 74.21875 29.59375 74.21875 \r\nQ 40.828125 74.21875 47.359375 69.109375 \r\nQ 53.90625 64.015625 53.90625 55.328125 \r\nQ 53.90625 49.265625 50.4375 45.09375 \r\nQ 46.96875 40.921875 40.578125 39.3125 \r\nz\r\n\" id=\"DejaVuSans-51\"/>\r\n      </defs>\r\n      <g transform=\"translate(227.81 239.640156)scale(0.1 -0.1)\">\r\n       <use xlink:href=\"#DejaVuSans-51\"/>\r\n       <use x=\"63.623047\" xlink:href=\"#DejaVuSans-48\"/>\r\n      </g>\r\n     </g>\r\n    </g>\r\n   </g>\r\n   <g id=\"matplotlib.axis_2\">\r\n    <g id=\"ytick_1\">\r\n     <g id=\"line2d_8\">\r\n      <defs>\r\n       <path d=\"M 0 0 \r\nL -3.5 0 \r\n\" id=\"mf4edfc4ed6\" style=\"stroke:#000000;stroke-width:0.8;\"/>\r\n      </defs>\r\n      <g>\r\n       <use style=\"stroke:#000000;stroke-width:0.8;\" x=\"26.925\" xlink:href=\"#mf4edfc4ed6\" y=\"10.999219\"/>\r\n      </g>\r\n     </g>\r\n     <g id=\"text_8\">\r\n      <!-- 0 -->\r\n      <g transform=\"translate(13.5625 14.798437)scale(0.1 -0.1)\">\r\n       <use xlink:href=\"#DejaVuSans-48\"/>\r\n      </g>\r\n     </g>\r\n    </g>\r\n    <g id=\"ytick_2\">\r\n     <g id=\"line2d_9\">\r\n      <g>\r\n       <use style=\"stroke:#000000;stroke-width:0.8;\" x=\"26.925\" xlink:href=\"#mf4edfc4ed6\" y=\"44.974219\"/>\r\n      </g>\r\n     </g>\r\n     <g id=\"text_9\">\r\n      <!-- 5 -->\r\n      <g transform=\"translate(13.5625 48.773437)scale(0.1 -0.1)\">\r\n       <use xlink:href=\"#DejaVuSans-53\"/>\r\n      </g>\r\n     </g>\r\n    </g>\r\n    <g id=\"ytick_3\">\r\n     <g id=\"line2d_10\">\r\n      <g>\r\n       <use style=\"stroke:#000000;stroke-width:0.8;\" x=\"26.925\" xlink:href=\"#mf4edfc4ed6\" y=\"78.949219\"/>\r\n      </g>\r\n     </g>\r\n     <g id=\"text_10\">\r\n      <!-- 10 -->\r\n      <g transform=\"translate(7.2 82.748437)scale(0.1 -0.1)\">\r\n       <use xlink:href=\"#DejaVuSans-49\"/>\r\n       <use x=\"63.623047\" xlink:href=\"#DejaVuSans-48\"/>\r\n      </g>\r\n     </g>\r\n    </g>\r\n    <g id=\"ytick_4\">\r\n     <g id=\"line2d_11\">\r\n      <g>\r\n       <use style=\"stroke:#000000;stroke-width:0.8;\" x=\"26.925\" xlink:href=\"#mf4edfc4ed6\" y=\"112.924219\"/>\r\n      </g>\r\n     </g>\r\n     <g id=\"text_11\">\r\n      <!-- 15 -->\r\n      <g transform=\"translate(7.2 116.723437)scale(0.1 -0.1)\">\r\n       <use xlink:href=\"#DejaVuSans-49\"/>\r\n       <use x=\"63.623047\" xlink:href=\"#DejaVuSans-53\"/>\r\n      </g>\r\n     </g>\r\n    </g>\r\n    <g id=\"ytick_5\">\r\n     <g id=\"line2d_12\">\r\n      <g>\r\n       <use style=\"stroke:#000000;stroke-width:0.8;\" x=\"26.925\" xlink:href=\"#mf4edfc4ed6\" y=\"146.899219\"/>\r\n      </g>\r\n     </g>\r\n     <g id=\"text_12\">\r\n      <!-- 20 -->\r\n      <g transform=\"translate(7.2 150.698437)scale(0.1 -0.1)\">\r\n       <use xlink:href=\"#DejaVuSans-50\"/>\r\n       <use x=\"63.623047\" xlink:href=\"#DejaVuSans-48\"/>\r\n      </g>\r\n     </g>\r\n    </g>\r\n    <g id=\"ytick_6\">\r\n     <g id=\"line2d_13\">\r\n      <g>\r\n       <use style=\"stroke:#000000;stroke-width:0.8;\" x=\"26.925\" xlink:href=\"#mf4edfc4ed6\" y=\"180.874219\"/>\r\n      </g>\r\n     </g>\r\n     <g id=\"text_13\">\r\n      <!-- 25 -->\r\n      <g transform=\"translate(7.2 184.673437)scale(0.1 -0.1)\">\r\n       <use xlink:href=\"#DejaVuSans-50\"/>\r\n       <use x=\"63.623047\" xlink:href=\"#DejaVuSans-53\"/>\r\n      </g>\r\n     </g>\r\n    </g>\r\n    <g id=\"ytick_7\">\r\n     <g id=\"line2d_14\">\r\n      <g>\r\n       <use style=\"stroke:#000000;stroke-width:0.8;\" x=\"26.925\" xlink:href=\"#mf4edfc4ed6\" y=\"214.849219\"/>\r\n      </g>\r\n     </g>\r\n     <g id=\"text_14\">\r\n      <!-- 30 -->\r\n      <g transform=\"translate(7.2 218.648437)scale(0.1 -0.1)\">\r\n       <use xlink:href=\"#DejaVuSans-51\"/>\r\n       <use x=\"63.623047\" xlink:href=\"#DejaVuSans-48\"/>\r\n      </g>\r\n     </g>\r\n    </g>\r\n   </g>\r\n   <g id=\"patch_3\">\r\n    <path d=\"M 26.925 225.041719 \r\nL 26.925 7.601719 \r\n\" style=\"fill:none;stroke:#000000;stroke-linecap:square;stroke-linejoin:miter;stroke-width:0.8;\"/>\r\n   </g>\r\n   <g id=\"patch_4\">\r\n    <path d=\"M 244.365 225.041719 \r\nL 244.365 7.601719 \r\n\" style=\"fill:none;stroke:#000000;stroke-linecap:square;stroke-linejoin:miter;stroke-width:0.8;\"/>\r\n   </g>\r\n   <g id=\"patch_5\">\r\n    <path d=\"M 26.925 225.041719 \r\nL 244.365 225.041719 \r\n\" style=\"fill:none;stroke:#000000;stroke-linecap:square;stroke-linejoin:miter;stroke-width:0.8;\"/>\r\n   </g>\r\n   <g id=\"patch_6\">\r\n    <path d=\"M 26.925 7.601719 \r\nL 244.365 7.601719 \r\n\" style=\"fill:none;stroke:#000000;stroke-linecap:square;stroke-linejoin:miter;stroke-width:0.8;\"/>\r\n   </g>\r\n  </g>\r\n </g>\r\n <defs>\r\n  <clipPath id=\"pf30cffab46\">\r\n   <rect height=\"217.44\" width=\"217.44\" x=\"26.925\" y=\"7.601719\"/>\r\n  </clipPath>\r\n </defs>\r\n</svg>\r\n",
            "image/png": "[encoded data removed]"
          },
          "metadata": {
            "needs_background": "light"
          }
        },
        {
          "output_type": "stream",
          "name": "stdout",
          "text": "Airplane\n"
        }
      ]
    },
    {
      "cell_type": "code",
      "metadata": {
        "id": "8AMeQsQJzp1I",
        "colab_type": "code",
        "colab": {}
      },
      "source": [
        "#Data Formatting: Converts the 0-255 int range of each pixel to a 0-1 float  \n",
        "train_images = train_images / 255.0\n",
        "test_images = test_images / 255.0"
      ],
      "execution_count": 63,
      "outputs": []
    },
    {
      "cell_type": "code",
      "metadata": {
        "id": "WHD5yIet70qK",
        "colab_type": "code",
        "colab": {
          "base_uri": "https://localhost:8080/",
          "height": 442
        },
        "outputId": "f3b25352-2f60-4660-f2f3-52c74024f4dc",
        "tags": []
      },
      "source": [
        "#Creating the Network: Sets up the Convolutional Layers, NN Structure, connection types, and activation functions\n",
        "model = keras.Sequential([\n",
        "    keras.layers.Conv2D(32, (3, 3), activation='relu', input_shape=(32, 32, 3)),     #-|\n",
        "    keras.layers.MaxPooling2D((2, 2)),                                               # |  Convolutional Base\n",
        "    keras.layers.Conv2D(64, (3, 3), activation='relu',),                             # |  Takes Image and breaks down components\n",
        "    keras.layers.MaxPooling2D((2, 2)),                                               # |  Passes information about components to Perceptron for analysis \n",
        "    keras.layers.Conv2D(64, (3, 3), activation='relu',),                             #-|                                               \n",
        "\n",
        "    keras.layers.Flatten(),                                                           #Sets \"input\" layer equal to flattened version of last pooling       \n",
        "    keras.layers.Dense(64, activation='relu'),\n",
        "    keras.layers.Dense(10, activation='softmax'),                     \n",
        "])\n",
        "print(model.summary())"
      ],
      "execution_count": 64,
      "outputs": [
        {
          "output_type": "stream",
          "name": "stdout",
          "text": "Model: \"sequential_3\"\n_________________________________________________________________\nLayer (type)                 Output Shape              Param #   \n=================================================================\nconv2d_9 (Conv2D)            (None, 30, 30, 32)        896       \n_________________________________________________________________\nmax_pooling2d_6 (MaxPooling2 (None, 15, 15, 32)        0         \n_________________________________________________________________\nconv2d_10 (Conv2D)           (None, 13, 13, 64)        18496     \n_________________________________________________________________\nmax_pooling2d_7 (MaxPooling2 (None, 6, 6, 64)          0         \n_________________________________________________________________\nconv2d_11 (Conv2D)           (None, 4, 4, 64)          36928     \n_________________________________________________________________\nflatten_3 (Flatten)          (None, 1024)              0         \n_________________________________________________________________\ndense_6 (Dense)              (None, 64)                65600     \n_________________________________________________________________\ndense_7 (Dense)              (None, 10)                650       \n=================================================================\nTotal params: 122,570\nTrainable params: 122,570\nNon-trainable params: 0\n_________________________________________________________________\nNone\n"
        }
      ]
    },
    {
      "cell_type": "code",
      "metadata": {
        "id": "yxkjZvk53md5",
        "colab_type": "code",
        "colab": {}
      },
      "source": [
        "#Compile the Model: Sets up the models loss function, optimizer, and metrics\n",
        "model.compile(optimizer='adam',loss=tf.keras.losses.SparseCategoricalCrossentropy(from_logits=True),metrics=['accuracy'])"
      ],
      "execution_count": 65,
      "outputs": []
    },
    {
      "cell_type": "code",
      "metadata": {
        "id": "ZPycvVaR61b1",
        "colab_type": "code",
        "colab": {
          "base_uri": "https://localhost:8080/",
          "height": 374
        },
        "outputId": "e3e200c2-8348-4791-f6c0-6f94d25512a9",
        "tags": []
      },
      "source": [
        "#Trains Model\n",
        "model.fit(train_images, train_labels, epochs=4) "
      ],
      "execution_count": 66,
      "outputs": [
        {
          "output_type": "stream",
          "name": "stdout",
          "text": "Epoch 1/4\n1563/1563 [==============================] - 37s 24ms/step - loss: 2.1073 - accuracy: 0.3433\nEpoch 2/4\n1563/1563 [==============================] - 28s 18ms/step - loss: 1.9915 - accuracy: 0.4646\nEpoch 3/4\n1563/1563 [==============================] - 29s 19ms/step - loss: 1.9387 - accuracy: 0.5199\nEpoch 4/4\n1563/1563 [==============================] - 29s 19ms/step - loss: 1.9012 - accuracy: 0.5574\n"
        },
        {
          "output_type": "execute_result",
          "data": {
            "text/plain": "<tensorflow.python.keras.callbacks.History at 0x20781dc3610>"
          },
          "metadata": {},
          "execution_count": 66
        }
      ]
    },
    {
      "cell_type": "code",
      "metadata": {
        "id": "FoCEs1N4nXln",
        "colab_type": "code",
        "colab": {
          "base_uri": "https://localhost:8080/",
          "height": 51
        },
        "outputId": "2755bd1c-2284-438f-dba1-e69e2dcb9863",
        "tags": []
      },
      "source": [
        "#Testing the model: uses teesting images and labels to verify accuracy of training\n",
        "test_loss, test_acc = model.evaluate(test_images,  test_labels, verbose=1) \n",
        "\n",
        "print('Test accuracy:', test_acc)"
      ],
      "execution_count": 67,
      "outputs": [
        {
          "output_type": "stream",
          "name": "stdout",
          "text": "313/313 [==============================] - 2s 5ms/step - loss: 1.8756 - accuracy: 0.5830\nTest accuracy: 0.5830000042915344\n"
        }
      ]
    },
    {
      "cell_type": "code",
      "metadata": {
        "id": "P_3NRVbikfrM",
        "colab_type": "code",
        "colab": {
          "base_uri": "https://localhost:8080/",
          "height": 1000
        },
        "outputId": "bd2c6452-9d60-48a4-a6ff-5bfa64236c4a",
        "tags": []
      },
      "source": [
        "from tensorflow.keras.preprocessing import image\n",
        "from tensorflow.keras.preprocessing.image import ImageDataGenerator\n",
        "\n",
        "# creates a data generator object that transforms images\n",
        "datagen = ImageDataGenerator(\n",
        "  rotation_range=40,\n",
        "  width_shift_range=0.2,\n",
        "  height_shift_range=0.2,\n",
        "  shear_range=0.2,\n",
        "  zoom_range=0.2,\n",
        "  horizontal_flip=True,\n",
        "  fill_mode='nearest')\n",
        "datagen.fit(train_images)\n",
        "\n",
        "# # pick an image to transform\n",
        "# img = train_images[29]  \n",
        "# img = img.reshape((1,) + img.shape)  # reshape image\n",
        "\n",
        "# i = 0\n",
        "# for batch in datagen.flow(img, save_prefix='test', save_format='jpeg'):  # this loops runs forever until we break, saving images to current directory with specified prefix\n",
        "#     plt.figure(i)\n",
        "#     plt.axis(\"off\")\n",
        "#     plot = plt.imshow(image.img_to_array(batch[0]))\n",
        "#     i += 1\n",
        "#     if i > 4:  # show 4 images\n",
        "#         break\n",
        "# plt.show()\n",
        "\n",
        "model.fit(datagen.flow(train_images, train_labels), validation_data = (test_images,test_labels), epochs=4)\n"
      ],
      "execution_count": 68,
      "outputs": [
        {
          "output_type": "stream",
          "name": "stdout",
          "text": "Epoch 1/4\n1563/1563 [==============================] - 35s 22ms/step - loss: 2.0509 - accuracy: 0.4041 - val_loss: 1.9641 - val_accuracy: 0.4934\nEpoch 2/4\n1563/1563 [==============================] - 35s 22ms/step - loss: 2.0302 - accuracy: 0.4248 - val_loss: 1.9675 - val_accuracy: 0.4890\nEpoch 3/4\n1563/1563 [==============================] - 35s 22ms/step - loss: 2.0224 - accuracy: 0.4320 - val_loss: 1.9200 - val_accuracy: 0.5379\nEpoch 4/4\n1563/1563 [==============================] - 36s 23ms/step - loss: 2.0104 - accuracy: 0.4444 - val_loss: 1.9492 - val_accuracy: 0.5099\n"
        },
        {
          "output_type": "execute_result",
          "data": {
            "text/plain": "<tensorflow.python.keras.callbacks.History at 0x207789a4790>"
          },
          "metadata": {},
          "execution_count": 68
        }
      ]
    },
    {
      "cell_type": "code",
      "execution_count": 69,
      "metadata": {
        "tags": []
      },
      "outputs": [
        {
          "output_type": "stream",
          "name": "stdout",
          "text": "313/313 [==============================] - 2s 5ms/step - loss: 1.9492 - accuracy: 0.5099\nTest accuracy: 0.5098999738693237\n"
        }
      ],
      "source": [
        "test_loss, test_acc = model.evaluate(test_images,  test_labels, verbose=1) \n",
        "\n",
        "print('Test accuracy:', test_acc)"
      ]
    },
    {
      "cell_type": "code",
      "execution_count": 70,
      "metadata": {
        "tags": []
      },
      "outputs": [
        {
          "output_type": "display_data",
          "data": {
            "text/plain": "<Figure size 432x288 with 1 Axes>",
            "image/svg+xml": "<?xml version=\"1.0\" encoding=\"utf-8\" standalone=\"no\"?>\r\n<!DOCTYPE svg PUBLIC \"-//W3C//DTD SVG 1.1//EN\"\r\n  \"http://www.w3.org/Graphics/SVG/1.1/DTD/svg11.dtd\">\r\n<!-- Created with matplotlib (https://matplotlib.org/) -->\r\n<svg height=\"231.84pt\" version=\"1.1\" viewBox=\"0 0 231.84 231.84\" width=\"231.84pt\" xmlns=\"http://www.w3.org/2000/svg\" xmlns:xlink=\"http://www.w3.org/1999/xlink\">\r\n <defs>\r\n  <style type=\"text/css\">\r\n*{stroke-linecap:butt;stroke-linejoin:round;}\r\n  </style>\r\n </defs>\r\n <g id=\"figure_1\">\r\n  <g id=\"patch_1\">\r\n   <path d=\"M 0 231.84 \r\nL 231.84 231.84 \r\nL 231.84 0 \r\nL 0 0 \r\nz\r\n\" style=\"fill:none;\"/>\r\n  </g>\r\n  <g id=\"axes_1\">\r\n   <g clip-path=\"url(#pc25b9029d1)\">\r\n    <image height=\"218\" id=\"image4f289fb348\" transform=\"scale(1 -1)translate(0 -218)\" width=\"218\" x=\"7.2\" xlink:href=\"data:image/png;base64,\r\niVBORw0KGgoAAAANSUhEUgAAANoAAADaCAYAAADAHVzbAAAABHNCSVQICAgIfAhkiAAAD41JREFUeJztnctuHFl2RW9ERjLJ5Et8iZQotehytboNj7rQg+6BB577L/wn/gp/kw0DtqvtBspVqlK1RD34FJOZyXxEhAc9vXsXKsA6koC1hnFwI27cjJ0B7HvinOKf/+Vf2yQokgyloizzx4tCjzExR5dxvXYhY2WjY23K31dKKRX9FXNFPS61S3Fcr2+TejpW6Gs1rVl/83tG0or7bppGjvExs456WGpqPa7LHN3qmqcDAO4LhAYQAEIDCAChAQSA0AACQGgAAVRd7fgulntXe78LhbHAy56xzpfCik8pVc1MxnpiuyOllMoyf9+LWlvFSzP/1qxjm8xvZrYTPgXc81Ga9U3JePjWc9fXcza+ws7/Z58NAH42CA0gAIQGEABCAwgAoQEEgNAAAqgKY3G67PJPnbrQFn5VVTK2Vml7/+GDoYxtD3Vm/90yv45/eXshxzQ2sz9um6QrXbaGuljqXa/115j5OkWMc9sMZO8DfGQQGkAACA0gAIQGEABCAwjAJhV/zjSt/g+ZCRcwpZSKVMvYwc6WjJ0c7cjY6C5/zqvRWI6ZjeYy1jq3TEY0NtnYmdId3c8ujp5zYc1yJPd4d4l5uZBUDPBRQWgAASA0gAAQGkAACA0gAIQGEEBVGEuyvecS0qrM8k/RZQvCXWlp7nlm8lrnC11KPC11PZGNKp/gfLijtwTOR2cyVpgS2D1Xslr8rZZmS6M0azU3Zcud1d0Tfrwrde5+UFcGvW10knhRmB9b7RmYMYV5b/FGAwgAoQEEgNAAAkBoAAEgNIAAEBpAALp4xi9AV3vfpUx3yR93Weet67RpU9mN5S66j+5vb8gxayvXMqa+BvgpijZvTQ+cS9/qay2dO25q0ciI7abpfjMzD5ui72qG5GN+p0mfjzcaQAAIDSAAhAYQAEIDCAChAQSA0AACCLX3Pw+MTW86hQ5W+vqMs2n2+PbaqhxzuKsLAY1OL/W1SuPV1/lM9qNH+3LIg811Gfv25WsZG890caEk5tjaLHznq7uy32aY69IqJ6Kfj5bsfYCPC0IDCAChAQSA0AACQGgAASA0gAAqm/7+iTT8vO/uAF3P1+9rC38w0FZ90+Sz95cm/f1od1PGTs9vZOx2rrPte6IIz66x8H/75Yk5n35A/vTNCxmb1/n7Lkqz22SexdK8L7rWypdZ/x2/JOGNBhAAQgMIAKEBBIDQAAJAaAABIDSAAH6i9v5nTHDHYJfZX63m7fO7cT6rP6WUtlb0Dexv6G2G6bk+ZyXqxq9W+lpVo3sKPNoZytjbLRO7nmSP1+LrgpRSKk3RJN8jotvz3amQlLH+eaMBBIDQAAJAaAABIDSAABAaQACfSc2QDq5SNyOqU3fRlFKqTTnrosy7hGWlE4AHxa2MPdxckbH3Z7pWx7LJX69fug6iusvpsNLjjvYfyNj56C57vBXJximlVPb0o1qb37ruWob+nuGNBhAAQgMIAKEBBIDQAAJAaAABIDSAAIxBm5LzyKUJbksmO19da96NU6MKM3fn+KqumH8dqGPO3m+LvDXdmhoZvaTPtzPU4+4+vJexy9tx9vj0+bEc0y51V9Iqaev/aG9Hxk4v8vO4vBnpefTM82F+sto2R/35z7ff/KHjJ8BHBaEBBIDQAAJAaAABIDSAABAaQABV4+octNobLZt8lrjpN5naQte6WBYDM9B0UmzzFnOv0FZrf6Cz33dW12Rsw3zrUNTa6lZrbP/ljI9clfp3GVa6xsfl7CJ7/O3r7+SYlVpb7qPrKxkbz/QNvPzubfb4stJl1XeffiFj7hluRZ2UlLxVr77iKM1z5eCNBhAAQgMIAKEBBIDQAAJAaAABIDSAAKqVUpdh3tvSdnw7zRePOTt9LcfMa22r7z39UsZWN3QG+bDK27eDFe3Fb29vydijXX2t7b6zik1MlLruV3p91809j6facn90oO9tMs7b++/evJRjrt/r3/M//u3fZex2pLcZzi7zxXn62/tyzD/8k/4aoNralTHbhdN+TJIP+i9QzLXMPADgnkBoAAEgNIAAEBpAAAgNIACEBhBAtdJqG/bvTk5kbH/tYfb4fy7yFnJKKb16rWPPtnRW9N5jbVn3RafNtVVtnW9uGgt/Q2fvF7Wua98sTWyurH99z2tDPY+y1P+PrnfAcJjvwjmf62dge3dPxo6PdVGf01fvZOzmNr9Wl5e6sNBy8kHGNrb08zE3rxJXpKlVLR1K03mUjp8AHxeEBhAAQgMIAKEBBIDQAAKopkvtlJxd6+TV58/yScBfffWVHPN494WMDbe15hdj7WBNlnnraPBAO1FlX9fcKAZ6PQrTdTKJrp4ppdQW+XoizVLPo6pMHQzbztQ4mWv5mhwDU0Pl4eGhjG2bxOfTJ/o3+/M332ePz2r9DGzoKaZiph3Jfk/XIWlEqfaUUmpEUnFj3k1Nh9L1AHCPIDSAABAaQAAIDSAAhAYQAEIDCKCaVJsy+D9/0SWfm/LH7PFne/p8c5WpmVLqTfNdIFNKaTBcl7FqLZ9862p4zGdTGZtMtI/cW9FWcd/E1tfz5c7rhU5ELktt09dmW2A0ytdySSmlVmTRPjo6kmN2d3U9jnZTb6EcHT2SsS++zG8N3U71esx1aZt0t9C/9emVTmSv1h/omPg9zaVskjJvNIAAEBpAAAgNIACEBhAAQgMIAKEBBFC1JoN5VmrL+usfzrLHX73TNRWmb89lbHGjY3/4/e9k7Mvf/k32eH+gtwQGK7q7aOHqcZh6EWVhep22eU94udSe9WyutyCmdzp2c6Mz2avV/H0fmgx9F6vvdK2RZDpj7h3ktwyaxtTUNltDTa1j//39Gxl7daG3QppGbaHo58OVC+eNBhAAQgMIAKEBBIDQAAJAaAABIDSAAKqVWlvFrbQ4U0qi/PHlVFvW6/t/K2NHj57K2KTVhW8uRGfJcqbt9n5fW8+DvinAY9ajEBZ+SimtCNd3Zr5YmBt7f7HIF/tJyWeQD9fyJcH3Dw7kmMFAb4XcLcx6lGY9ROGh0lj4N1c3Mvanr/9Xxv7v9FrGto/18zhXVr2ri0THT4CPC0IDCAChAQSA0AACQGgAASA0gACqstE2bGNiqchrtE3aHp822nLv1Xrc5FoXbXkzyWdnN8lk04u5p+TtfWfh9yt9vYOtfMGi/e283Z5SSocHOmv+6jr/5URKKS1M986TZ3k7e2tzR45xWxC304mM9US/gZRS2ljLb9eY3YJ0fqbv+c2pztC/+aDnsfXE1N4v8tsarZmj2RjijQYQAUIDCAChAQSA0AACQGgAAVR1q92yxjaWFBmUJrGyqfUJb0zJ56Iw7R6lIWkcUxvTEzG3ZoPvhPP18IN27RZmjjPjfO3tP5Sxp0/z9VVK0610YazAiXEkxx+0S9gs887oeKLXfnyrY49F99mUUvrNwbGMnY70vY1v87HWvJvKpM/HGw0gAIQGEABCAwgAoQEEgNAAAkBoAAFU3rS2hrYY0fF8ogZJSr5MQyR2HiY4medt39MLXb57sdDW/+PdDRn76o//KGPb2/lS3K42zNwkKV+evZOx6VSX2377Pm/93xp7//jJr2Vs+/BXOralS8PPWz3Hi1H+t1nUZjvMPMO80QACQGgAASA0gAAQGkAACA0gAIQGEEDV3rN53pqa1IWxP+8bNw87x67XczHRKdTVVzkf61oX7tuDttJdWofDu+zxB5u67LcrG3Nxobu0zpZ6/pfj/JZBk/Tcr2f6lxm2+uuOwzVt7x/39biL2/xnIT+e6y2BZU9/BcEbDSAAhAYQAEIDCAChAQSA0AACQGgAAVTOl75vq96WGO+ImkXXTYtf4kuBRjaP1Gt4V+v/wPc3ukT6zVhn1I9u8tb03z8/kWNW1vSXAmWltwXquelKWua3NfqrW3LM2KzHj+91V8+toZ7jybEuZHTyq/yWzPnoOznmZq6fb95oAAEgNIAAEBpAAAgNIACEBhAAQgMIwDUp/Cz4VAr3eETxG7NF0qjeBimlZWu6qi60xfziTd4GX6aXcsyzo20Zq3s6277t6aI+6+v5jPrNXW23f5jpTPvRVG8lfP3daxkzS5UOj46yx48f6U6sty9151HeaAABIDSAABAaQAAIDSAAhAYQAEIDCOCzt/c/B1zLVUWRdI139/9YJ10gZi6+Fvj+ne4BcHurY2vVmowtGz1uZyv/RcAXz3WL3D9/fyFj4ytt749qvS3wX9++krHn83wfgKrU2y6VeW3xRgMIAKEBBIDQAAJAaAABIDSAACrbhPOeL9a1JLirXaIv5oL3X7vEIqdvupx2LGnuSry3vbwDtzD/t1cTXQK7v6Y7dN6Zjp9Hh/nk4YPdfEfSlFJaNkMZm050UvSV6LaaUkp1oe/7mx9Ps8cLl8ZOx0+AjwtCAwgAoQEEgNAAAkBoAAEgNIAAbFKxNdWFxRzZ1dNRFN0s8F+CVv2fqVrhKSVTMsRuXRRm66JXqERlU9q71bU/3r5/IWPLsbb3y36+9LdLpH60p2uXTI/1tsDXP+g6HjNzvTuxjIVZ/NIkHPNGAwgAoQEEgNAAAkBoAAEgNIAAEBpAAFXXLPFIunUe1VZr/BaEuJ6Zh3X37Ti9VlUStTXcdkFrMvvHulbHak937zz7kM+of3Cm64wc7OrzPT7UsYsb3Q30zeVIxpZif6U2WwKNeW/xRgMIAKEBBIDQAAJAaAABIDSAABAaQABV23Sz95XF/KlsCZhE6lQae7zz7P2nDj97UFnq/0Bn75fmnP02X0yndf5+T3/gsXN4ooeZD0NuZvnYtz/o7pzL+UTGDvfzJcZTSumLJ/sydjfV57waz7PHa7NWTaOtf95oAAEgNIAAEBpAAAgNIACEBhAAQgMIoGrarnXo8zaydffddoHz4zt0ATC1eay93xW3jl0u52x6V3ioNPMoReEeV9AnFdqmLwYPZKw2hYcWTf6c45kuBPTqzVsZ61fawj84eCxjTx6bTqEv8t1AZ7rdgN3h4Y0GEABCAwgAoQEEgNAAAkBoAAFUziX0Zlk+2tXQK0z3xZ8YmD3snEXn6PlLdSsHrVxCu1a27Le1VM1J825fZepguHtui76MNaVxRoXL2ZibHs/1+X54o2uNXE/0vS3Nfacq3x011bqDqFt53mgAASA0gAAQGkAACA0gAIQGEABCAwigamqTJWnoUlbbWe5dU5vVPEwplFR0TAAuTB2P0mxP6GGmXotdEB10GxczMcei1ZZ13yYcuy0NnbBbpvwzt6z17BcLY/2bTN/Ty/cy1pqtkKWw8evGrEebrzOSEm80gBAQGkAACA0gAIQGEABCAwgAoQEE8P8USzMsbUEwtQAAAABJRU5ErkJggg==\" y=\"-6.64\"/>\r\n   </g>\r\n  </g>\r\n </g>\r\n <defs>\r\n  <clipPath id=\"pc25b9029d1\">\r\n   <rect height=\"217.44\" width=\"217.44\" x=\"7.2\" y=\"7.2\"/>\r\n  </clipPath>\r\n </defs>\r\n</svg>\r\n",
            "image/png": "[encoded data removed]"
          },
          "metadata": {
            "needs_background": "light"
          }
        },
        {
          "output_type": "stream",
          "name": "stdout",
          "text": "The Neural Network thinks its a Airplane with a 99.9962329864502% confidence\n"
        }
      ],
      "source": [
        "def getNum():\n",
        "  while True:\n",
        "    num = input(\"Pick a number from 0 to \"+ str(test_images.shape[0])+ \": \")\n",
        "    if num.isdigit():\n",
        "      num = int(num)\n",
        "      if 0 <= num <= test_images.shape[0]:\n",
        "        return num\n",
        "    else:\n",
        "      print(\"Try again...\")\n",
        "def display(num):\n",
        "  plt.figure()\n",
        "  plt.imshow(test_images[num], cmap=\"gray\")\n",
        "  plt.axis('off')\n",
        "  plt.show()\n",
        "\n",
        "num = 10 #getNum() #commented out for testing purposes\n",
        "display(num)\n",
        "prediction = model.predict(test_images)\n",
        "guess = np.argmax(prediction[num])\n",
        "print(\"The Neural Network thinks its a \", class_names[guess], \" with a \", prediction[num, guess]*100,\"% confidence\", sep=\"\" )"
      ]
    },
    {
      "cell_type": "code",
      "execution_count": null,
      "metadata": {},
      "outputs": [],
      "source": []
    }
  ]
}